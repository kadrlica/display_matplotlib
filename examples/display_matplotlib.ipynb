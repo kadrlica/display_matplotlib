{
 "cells": [
  {
   "cell_type": "code",
   "execution_count": null,
   "metadata": {
    "collapsed": false
   },
   "outputs": [],
   "source": [
    "#%matplotlib qt\n",
    "#%gui qt\n",
    "\n",
    "#%matplotlib osx\n",
    "\n",
    "%matplotlib notebook\n",
    "#%config InlineBackend.figure_format = 'retina'\n",
    "\n",
    "import lsst.afw.display as afwDisplay\n",
    "afwDisplay.setDefaultBackend(\"matplotlib\")"
   ]
  },
  {
   "cell_type": "code",
   "execution_count": null,
   "metadata": {
    "collapsed": false,
    "scrolled": false
   },
   "outputs": [],
   "source": [
    "import lsst.afw.geom as afwGeom\n",
    "import lsst.afw.image as afwImage\n",
    "import lsst.afw.math as afwMath\n",
    "\n",
    "disp = afwDisplay.Display()\n",
    "\n",
    "im = afwImage.MaskedImageF(100, 50)\n",
    "afwMath.randomGaussianImage(im.image, afwMath.Random())\n",
    "im.setXY0(10, 5)\n",
    "im[0, 0] = 20\n",
    "im.mask[0, 0] = im.mask.getPlaneBitMask(\"EDGE\")\n",
    "im[-1, -1] = 30\n",
    "im.image[50, 22:24] = 40\n",
    "im.mask[50, 22] = 0x5\n",
    "\n",
    "disp.scale(\"asinh\", \"zscale\", Q=8)\n",
    "title=\"test\"\n",
    "    \n",
    "disp.mtv(im, title=title)"
   ]
  },
  {
   "cell_type": "code",
   "execution_count": null,
   "metadata": {
    "collapsed": false
   },
   "outputs": [],
   "source": [
    "if True:\n",
    "    disp = afwDisplay.Display()\n",
    "\n",
    "if True:\n",
    "    disp.scale(\"asinh\", \"zscale\", Q=8)\n",
    "else:\n",
    "    disp.scale(\"linear\", \"zscale\")\n",
    "disp.mtv(im, title=title)"
   ]
  },
  {
   "cell_type": "code",
   "execution_count": null,
   "metadata": {
    "collapsed": false,
    "scrolled": false
   },
   "outputs": [],
   "source": [
    "disp.dot('o', 52, 23, ctype='RED')\n",
    "\n",
    "disp.dot('hello world', 52, 23)"
   ]
  },
  {
   "cell_type": "code",
   "execution_count": null,
   "metadata": {
    "collapsed": false,
    "scrolled": false
   },
   "outputs": [],
   "source": [
    "disp.pan(55, 23)\n",
    "#disp.pan(*(im.getXY0() + 0.5*im.getDimensions()))\n",
    "disp.dot('+', 55, 23, ctype='blue')\n",
    "disp.zoom(4)"
   ]
  },
  {
   "cell_type": "code",
   "execution_count": null,
   "metadata": {
    "collapsed": false
   },
   "outputs": [],
   "source": [
    "disp.line([(50, 20), (58, 20), (58, 26), (50, 26), (50, 20)], ctype='cyan')"
   ]
  },
  {
   "cell_type": "code",
   "execution_count": null,
   "metadata": {
    "collapsed": false
   },
   "outputs": [],
   "source": [
    "disp.erase()"
   ]
  },
  {
   "cell_type": "code",
   "execution_count": null,
   "metadata": {
    "collapsed": false
   },
   "outputs": [],
   "source": [
    "disp2 = afwDisplay.Display(2)"
   ]
  },
  {
   "cell_type": "code",
   "execution_count": null,
   "metadata": {
    "collapsed": true
   },
   "outputs": [],
   "source": [
    "disp2.mtv(afwImage.ImageF(10, 20))\n",
    "disp2.dot('o', 4, 5)"
   ]
  },
  {
   "cell_type": "code",
   "execution_count": null,
   "metadata": {
    "collapsed": false
   },
   "outputs": [],
   "source": [
    "def pan(k, x, y):\n",
    "    disp.pan(x, y)\n",
    "    return False\n",
    "disp._callbacks['a'] = pan\n",
    "\n",
    "for i in (1, 2, 4, 8, 9):\n",
    "    def zoom(k, x, y, z=16 if i == 9 else i):\n",
    "        disp.zoom(z, x, y)\n",
    "        return False\n",
    "\n",
    "    disp._callbacks[str(i)] = zoom\n",
    "\n",
    "disp.zoom(4)\n",
    "print(\"Interacting with display 0; hit q to quit; 1, 2, 4, 8, 9 to zoom\")\n",
    "disp.interact()"
   ]
  },
  {
   "cell_type": "code",
   "execution_count": 64,
   "metadata": {
    "collapsed": false
   },
   "outputs": [
    {
     "name": "stdout",
     "output_type": "stream",
     "text": [
      "OK or No\n"
     ]
    }
   ],
   "source": [
    "dd = dict(accept = 'OK')\n",
    "\n",
    "if dd.get('accept'):\n",
    "    if dd['accept'] == 1 or dd['accept'] == 3 or dd['accept'] == 3:\n",
    "        print \"XXX\""
   ]
  },
  {
   "cell_type": "code",
   "execution_count": 71,
   "metadata": {
    "collapsed": false
   },
   "outputs": [],
   "source": [
    "if dd.get('accept') and (dd['accept'] == 1 or \n",
    "                         dd['accept'] == 2 or \n",
    "                         dd['accept'] == 3):\n",
    "    print \"XXX\""
   ]
  },
  {
   "cell_type": "code",
   "execution_count": 65,
   "metadata": {
    "collapsed": true
   },
   "outputs": [],
   "source": [
    "accept = dd.get('accept')\n",
    "if accept and accept == 1 or accept == 2 or accept == 3:\n",
    "    print \"XXX\""
   ]
  }
 ],
 "metadata": {
  "anaconda-cloud": {},
  "kernelspec": {
   "display_name": "Python [default]",
   "language": "python",
   "name": "python2"
  },
  "language_info": {
   "codemirror_mode": {
    "name": "ipython",
    "version": 2
   },
   "file_extension": ".py",
   "mimetype": "text/x-python",
   "name": "python",
   "nbconvert_exporter": "python",
   "pygments_lexer": "ipython2",
   "version": "2.7.12"
  }
 },
 "nbformat": 4,
 "nbformat_minor": 1
}
